{
 "cells": [
  {
   "cell_type": "markdown",
   "metadata": {
    "colab_type": "text",
    "id": "yHgNNSJ0iqz-"
   },
   "source": [
    "Student: Nilufar Hatamova.\n",
    "\n",
    "I have permisson from Richard Johansson to work alone."
   ]
  },
  {
   "cell_type": "code",
   "execution_count": 30,
   "metadata": {
    "colab": {
     "base_uri": "https://localhost:8080/",
     "height": 70,
     "resources": {
      "http://localhost:8080/nbextensions/google.colab/files.js": {
       "data": "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",
       "headers": [
        [
         "content-type",
         "application/javascript"
        ]
       ],
       "ok": true,
       "status": 200,
       "status_text": ""
      }
     }
    },
    "colab_type": "code",
    "id": "X-FZt-25ESRO",
    "outputId": "1e4fbe02-1902-4126-e6c7-3db1b0f9afb8"
   },
   "outputs": [
    {
     "data": {
      "text/html": [
       "\n",
       "     <input type=\"file\" id=\"files-361a1a4a-b985-4c13-8ae3-449c3b89112c\" name=\"files[]\" multiple disabled />\n",
       "     <output id=\"result-361a1a4a-b985-4c13-8ae3-449c3b89112c\">\n",
       "      Upload widget is only available when the cell has been executed in the\n",
       "      current browser session. Please rerun this cell to enable.\n",
       "      </output>\n",
       "      <script src=\"/nbextensions/google.colab/files.js\"></script> "
      ],
      "text/plain": [
       "<IPython.core.display.HTML object>"
      ]
     },
     "metadata": {
      "tags": []
     },
     "output_type": "display_data"
    },
    {
     "name": "stdout",
     "output_type": "stream",
     "text": [
      "Saving a2a_train_final.tsv to a2a_train_final (2).tsv\n"
     ]
    }
   ],
   "source": [
    "from google.colab import files\n",
    "uploaded = files.upload()"
   ]
  },
  {
   "cell_type": "code",
   "execution_count": 31,
   "metadata": {
    "colab": {
     "base_uri": "https://localhost:8080/",
     "height": 70,
     "resources": {
      "http://localhost:8080/nbextensions/google.colab/files.js": {
       "data": "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",
       "headers": [
        [
         "content-type",
         "application/javascript"
        ]
       ],
       "ok": true,
       "status": 200,
       "status_text": ""
      }
     }
    },
    "colab_type": "code",
    "id": "6AAGl3Fx65xe",
    "outputId": "e79590a6-494b-44b3-952a-377a134c6b68"
   },
   "outputs": [
    {
     "data": {
      "text/html": [
       "\n",
       "     <input type=\"file\" id=\"files-4b1231d4-2c2e-42e2-9dd9-b7c134671be5\" name=\"files[]\" multiple disabled />\n",
       "     <output id=\"result-4b1231d4-2c2e-42e2-9dd9-b7c134671be5\">\n",
       "      Upload widget is only available when the cell has been executed in the\n",
       "      current browser session. Please rerun this cell to enable.\n",
       "      </output>\n",
       "      <script src=\"/nbextensions/google.colab/files.js\"></script> "
      ],
      "text/plain": [
       "<IPython.core.display.HTML object>"
      ]
     },
     "metadata": {
      "tags": []
     },
     "output_type": "display_data"
    },
    {
     "name": "stdout",
     "output_type": "stream",
     "text": [
      "Saving a2a_test_final.tsv to a2a_test_final (2).tsv\n"
     ]
    }
   ],
   "source": [
    "from google.colab import files\n",
    "uploaded = files.upload()"
   ]
  },
  {
   "cell_type": "code",
   "execution_count": 0,
   "metadata": {
    "colab": {},
    "colab_type": "code",
    "id": "YW2rFv5NEIdm"
   },
   "outputs": [],
   "source": [
    "import pandas as pd\n",
    "import numpy as np\n",
    "import nltk\n",
    "from nltk.corpus import stopwords\n",
    "from nltk.stem.snowball import SnowballStemmer\n",
    "from sklearn.feature_extraction.text import TfidfVectorizer\n",
    "import matplotlib.pyplot as plt\n",
    "from nltk.stem import WordNetLemmatizer\n",
    "from sklearn.naive_bayes import MultinomialNB\n",
    "from sklearn.pipeline import Pipeline\n",
    "from sklearn.metrics import classification_report\n",
    "from sklearn.metrics import accuracy_score\n",
    "from sklearn.ensemble import GradientBoostingClassifier\n",
    "from sklearn.neighbors import KNeighborsClassifier\n",
    "from sklearn.svm import LinearSVC\n",
    "from sklearn.tree import DecisionTreeClassifier\n",
    "from sklearn.ensemble import RandomForestClassifier\n",
    "from sklearn.model_selection import GridSearchCV \n",
    "from sklearn.metrics import confusion_matrix\n",
    "from sklearn.metrics import plot_roc_curve\n",
    "from sklearn.metrics import plot_confusion_matrix"
   ]
  },
  {
   "cell_type": "code",
   "execution_count": 0,
   "metadata": {
    "colab": {},
    "colab_type": "code",
    "id": "F7UcXh4tEIdu"
   },
   "outputs": [],
   "source": [
    "train_set = pd.read_csv(\"a2a_train_final.tsv\", sep='\\t', names=['label', 'comment'])\n",
    "test_set = pd.read_csv(\"a2a_test_final.tsv\", sep='\\t', names=['label', 'comment'])"
   ]
  },
  {
   "cell_type": "code",
   "execution_count": 34,
   "metadata": {
    "colab": {
     "base_uri": "https://localhost:8080/",
     "height": 101
    },
    "colab_type": "code",
    "id": "Iy3K4N3lEIdy",
    "outputId": "5eab0203-db89-484e-d2ae-69943c36d9b7"
   },
   "outputs": [
    {
     "name": "stdout",
     "output_type": "stream",
     "text": [
      "[nltk_data] Downloading package stopwords to /root/nltk_data...\n",
      "[nltk_data]   Package stopwords is already up-to-date!\n",
      "[nltk_data] Downloading package wordnet to /root/nltk_data...\n",
      "[nltk_data]   Package wordnet is already up-to-date!\n"
     ]
    },
    {
     "data": {
      "text/plain": [
       "True"
      ]
     },
     "execution_count": 34,
     "metadata": {
      "tags": []
     },
     "output_type": "execute_result"
    }
   ],
   "source": [
    "nltk.download('stopwords')\n",
    "nltk.download('wordnet')"
   ]
  },
  {
   "cell_type": "markdown",
   "metadata": {
    "colab_type": "text",
    "id": "U-rc1BNVEId4"
   },
   "source": [
    "### Pre-processing of  Data "
   ]
  },
  {
   "cell_type": "markdown",
   "metadata": {
    "colab_type": "text",
    "id": "m2gPtZQIb49v"
   },
   "source": [
    "The applied pre-processing techniques include:\n",
    "\n",
    "• punctuation removal\n",
    "\n",
    "• stemming words to their “root” form\n",
    "\n",
    "• removing stop words such as “I, the, is\"\n",
    "\n",
    "•  digit removal\n"
   ]
  },
  {
   "cell_type": "code",
   "execution_count": 0,
   "metadata": {
    "colab": {},
    "colab_type": "code",
    "id": "TiwXsBPl6x3k"
   },
   "outputs": [],
   "source": [
    "def preprocessing(data):\n",
    "    # removing  punctuation during text cleaning\n",
    "    data['comment'] = data['comment'].apply(lambda text: text.replace(r'[^\\w\\s]+', '').lower())\n",
    "    # stemming to reduce the number of overall terms to certain “root” terms\n",
    "    stemmer = SnowballStemmer(\"english\")\n",
    "    data['comment'] = data['comment'].apply(lambda text: ' '.join(stemmer.stem(word) for word in str(text).split()))\n",
    "    #remove stop words\n",
    "    stop_words = set(stopwords.words('english'))\n",
    "    data['comment'] = data['comment'].apply(lambda text: \" \".join(word for word in text.split() if word not in stop_words))\n",
    "    data['comment'] = data['comment'].apply(lambda text: ' '.join(word for word in text.split() if not word.isdigit()))\n",
    "    return data\n",
    "    "
   ]
  },
  {
   "cell_type": "code",
   "execution_count": 0,
   "metadata": {
    "colab": {},
    "colab_type": "code",
    "id": "cy5Gw2G66x3n"
   },
   "outputs": [],
   "source": [
    "train_set=preprocessing(train_set)\n",
    "test_set=preprocessing(test_set)"
   ]
  },
  {
   "cell_type": "markdown",
   "metadata": {
    "colab_type": "text",
    "id": "P9g2ZkczEIeR"
   },
   "source": [
    "How much consensus is there between annotators of the dataset? Do you think the data is reliable?"
   ]
  },
  {
   "cell_type": "code",
   "execution_count": 37,
   "metadata": {
    "colab": {
     "base_uri": "https://localhost:8080/",
     "height": 34
    },
    "colab_type": "code",
    "id": "Xs2ozP6ZEIeS",
    "outputId": "73084bf2-5343-4f54-acab-962fa5bd4881"
   },
   "outputs": [
    {
     "name": "stdout",
     "output_type": "stream",
     "text": [
      "81.4 %\n"
     ]
    }
   ],
   "source": [
    "train_set['label']=train_set['label'].apply(lambda x: x.split('/'))\n",
    "count =0\n",
    "for i in range(len(train_set['label'])):\n",
    "    if len(set(train_set['label'][i]))==1:\n",
    "       count=count+1\n",
    "\n",
    "consensus_rate=count/len(train_set['label']) *100    \n",
    "print(round(consensus_rate,1) ,\"%\")"
   ]
  },
  {
   "cell_type": "markdown",
   "metadata": {
    "colab_type": "text",
    "id": "yLJ6vqtmEIeX"
   },
   "source": [
    "In the training set, the labels of comments include the annotations\n",
    "from different annotators. There are some disagreements\n",
    "between annotations which is 18.6% of all annotations. The consensus is there between annotators of the dataset is 81.4 %."
   ]
  },
  {
   "cell_type": "code",
   "execution_count": 0,
   "metadata": {
    "colab": {},
    "colab_type": "code",
    "id": "eNoqWgtZEIeY"
   },
   "outputs": [],
   "source": [
    "from collections import Counter \n",
    "def majority(arr): \n",
    "\n",
    "    freqDict = Counter(arr) \n",
    "    size = len(arr) \n",
    "    for (key,val) in freqDict.items(): \n",
    "         if (val > (size/2)): return key\n",
    "         else: return 'None'\n",
    "\n"
   ]
  },
  {
   "cell_type": "code",
   "execution_count": 0,
   "metadata": {
    "colab": {},
    "colab_type": "code",
    "id": "VdnXd-2qEIeb"
   },
   "outputs": [],
   "source": [
    "for i in range(len(train_set['label'])):\n",
    "    if len(set(train_set['label'][i]))==1:\n",
    "        train_set['label'][i]=train_set['label'][i][0]\n",
    "    else:\n",
    "        train_set['label'][i]=majority(train_set['label'][i])\n",
    "        \n",
    "    "
   ]
  },
  {
   "cell_type": "code",
   "execution_count": 0,
   "metadata": {
    "colab": {},
    "colab_type": "code",
    "id": "KU7s8YpEEIee"
   },
   "outputs": [],
   "source": [
    "train_set = train_set[train_set['label'] != 'None'] "
   ]
  },
  {
   "cell_type": "code",
   "execution_count": 0,
   "metadata": {
    "colab": {},
    "colab_type": "code",
    "id": "ZISFnvfCEIei"
   },
   "outputs": [],
   "source": [
    "train_set = train_set[train_set['label'] != '-1'] "
   ]
  },
  {
   "cell_type": "code",
   "execution_count": 42,
   "metadata": {
    "colab": {
     "base_uri": "https://localhost:8080/",
     "height": 50
    },
    "colab_type": "code",
    "id": "Erezq8IvEIeq",
    "outputId": "f5c20ed1-21aa-4274-cede-a69790a71f68",
    "scrolled": true
   },
   "outputs": [
    {
     "name": "stdout",
     "output_type": "stream",
     "text": [
      "pro-Brexit:  51.61717921527041\n",
      "anti-Brexit:  48.38282078472959\n"
     ]
    }
   ],
   "source": [
    "#  Is the number of comments equally distributed per class?\n",
    "\n",
    "print('pro-Brexit: ',len(train_set[train_set['label'] == '1'])*100/len(train_set))\n",
    "print('anti-Brexit: ',len(train_set[train_set['label'] == '0'])*100/len(train_set))"
   ]
  },
  {
   "cell_type": "code",
   "execution_count": 43,
   "metadata": {
    "colab": {
     "base_uri": "https://localhost:8080/",
     "height": 384
    },
    "colab_type": "code",
    "id": "GJV5Hv2wEIeu",
    "outputId": "6cb3f7ae-0612-4bd3-a793-f1f80c0aad7c",
    "scrolled": true
   },
   "outputs": [
    {
     "data": {
      "image/png": "[encoded data removed]",
      "text/plain": [
       "<Figure size 576x432 with 1 Axes>"
      ]
     },
     "metadata": {
      "tags": []
     },
     "output_type": "display_data"
    }
   ],
   "source": [
    "fig = plt.figure(figsize=(8,6))\n",
    "train_set.groupby('label').comment.count().plot.bar(ylim=0)\n",
    "plt.show()"
   ]
  },
  {
   "cell_type": "markdown",
   "metadata": {
    "colab_type": "text",
    "id": "5QMv4lBTEIex"
   },
   "source": [
    "The number of comments in the training set is almost\n",
    "equally distributed between classes which means both pro-\n",
    "Brexit and anti-Brexit comments have the same effect to\n",
    "train the model. After cleaning the text corpus, the percentages\n",
    "of pro-Brexit and anti-Brexit comments are distributed\n",
    "as 51.6% and 48.4%, respectively in the training set."
   ]
  },
  {
   "cell_type": "code",
   "execution_count": 0,
   "metadata": {
    "colab": {},
    "colab_type": "code",
    "id": "u1H6Rd5aEIey",
    "scrolled": true
   },
   "outputs": [],
   "source": [
    "tfidf = TfidfVectorizer(sublinear_tf=True, min_df=5, norm='l2', encoding='latin-1', ngram_range=(1, 2), stop_words='english')\n",
    "features = tfidf.fit_transform(train_set.comment).toarray()\n",
    "labels = train_set.label"
   ]
  },
  {
   "cell_type": "markdown",
   "metadata": {
    "colab_type": "text",
    "id": "l0QChbxNd9ok"
   },
   "source": [
    "TfidfVectorizer() is used to represent these non-numerical\n",
    "features as a matrix of TF-IDF features.\n",
    " TfidfVectorizer()\n",
    "measures the weight of a word in the document. This weight\n",
    "is a statistical measure used to evaluate how important a\n",
    "word is to a document in a collection or corpus"
   ]
  },
  {
   "cell_type": "markdown",
   "metadata": {
    "colab_type": "text",
    "id": "y36iv9FIuIf4"
   },
   "source": [
    "# Decision tree as a baseline classifier "
   ]
  },
  {
   "cell_type": "markdown",
   "metadata": {
    "colab_type": "text",
    "id": "iYuGdiqreO1T"
   },
   "source": [
    "The decision tree classifier was used as a baseline classifier\n",
    "which is one of earlier classification algorithm for text\n",
    "mining. The classification pipeline was built with the following\n",
    "steps:\n",
    "1. To represent these features as a matrix of TF-IDF\n",
    "weight: TfidfVectorizer(),\n",
    "2. Run the classifier: DecisionTreeClassifier(),\n",
    "\n",
    "\n",
    "After fitting the model, the baseline test accuracy was\n",
    "0.69."
   ]
  },
  {
   "cell_type": "code",
   "execution_count": 0,
   "metadata": {
    "colab": {},
    "colab_type": "code",
    "id": "SEOLqLzbGM5K"
   },
   "outputs": [],
   "source": [
    "X_train=train_set['comment']\n",
    "Y_train=train_set['label'].astype('int64')\n",
    "\n",
    "X_test=test_set['comment']\n",
    "Y_test=test_set['label']"
   ]
  },
  {
   "cell_type": "code",
   "execution_count": 46,
   "metadata": {
    "colab": {
     "base_uri": "https://localhost:8080/",
     "height": 34
    },
    "colab_type": "code",
    "id": "ICM16CmZzf_l",
    "outputId": "85c60d98-e6ca-4e24-8020-cb737f71eb5c"
   },
   "outputs": [
    {
     "name": "stdout",
     "output_type": "stream",
     "text": [
      " Baseline test accuracy 0.6974137931034483\n"
     ]
    }
   ],
   "source": [
    "dt = Pipeline([\n",
    "               ('tfidf', TfidfVectorizer()),\n",
    "               ('clf', DecisionTreeClassifier()),\n",
    "              ])\n",
    "dt.fit(X_train, Y_train)\n",
    "print(' Baseline test accuracy %s' % accuracy_score( dt.predict(X_test), Y_test))"
   ]
  },
  {
   "cell_type": "markdown",
   "metadata": {
    "colab_type": "text",
    "id": "fhz1xI_v6x4K"
   },
   "source": [
    "## Trying different classifiers"
   ]
  },
  {
   "cell_type": "markdown",
   "metadata": {
    "colab_type": "text",
    "id": "idEHLUiv6x4T"
   },
   "source": [
    "### MultinomialNB"
   ]
  },
  {
   "cell_type": "code",
   "execution_count": 48,
   "metadata": {
    "colab": {
     "base_uri": "https://localhost:8080/",
     "height": 50
    },
    "colab_type": "code",
    "id": "973g7-SEF_iv",
    "outputId": "78af2580-0c53-49ba-bcc4-432c65804f11"
   },
   "outputs": [
    {
     "name": "stdout",
     "output_type": "stream",
     "text": [
      " train accuracy 0.8806115235065394\n",
      " test accuracy 0.7663793103448275\n"
     ]
    }
   ],
   "source": [
    "nb = Pipeline([\n",
    "               ('tfidf', TfidfVectorizer()),\n",
    "               ('clf', MultinomialNB()),\n",
    "              ])\n",
    "nb.fit(X_train, Y_train)\n",
    "print(' train accuracy %s' % accuracy_score( nb.predict(X_train), Y_train))\n",
    "\n",
    "print(' test accuracy %s' % accuracy_score( nb.predict(X_test), Y_test))\n"
   ]
  },
  {
   "cell_type": "markdown",
   "metadata": {
    "colab_type": "text",
    "id": "NF8MKmly6x4X"
   },
   "source": [
    "### LogisticRegression"
   ]
  },
  {
   "cell_type": "code",
   "execution_count": 49,
   "metadata": {
    "colab": {
     "base_uri": "https://localhost:8080/",
     "height": 50
    },
    "colab_type": "code",
    "id": "ttNcyUJFEIe5",
    "outputId": "67e0729b-8fd5-4b5f-cc1c-68347f71a1d3"
   },
   "outputs": [
    {
     "name": "stdout",
     "output_type": "stream",
     "text": [
      " train accuracy 0.8629374337221634\n",
      " test accuracy 0.7793103448275862\n"
     ]
    }
   ],
   "source": [
    "from sklearn.linear_model import LogisticRegression\n",
    "logreg = Pipeline([('tfidf', TfidfVectorizer()),\n",
    "                ('clf', LogisticRegression(n_jobs=1)),\n",
    "               ])\n",
    "logreg.fit(X_train, Y_train)\n",
    "y_pred = logreg.predict(X_train)\n",
    "\n",
    "print(' train accuracy %s' % accuracy_score( logreg.predict(X_train), Y_train))\n",
    "print(' test accuracy %s' % accuracy_score( logreg.predict(X_test), Y_test))"
   ]
  },
  {
   "cell_type": "markdown",
   "metadata": {
    "colab_type": "text",
    "id": "tVJejfGs6x4b"
   },
   "source": [
    "\n",
    "\n",
    "### GradientBoostingClassifier"
   ]
  },
  {
   "cell_type": "code",
   "execution_count": 50,
   "metadata": {
    "colab": {
     "base_uri": "https://localhost:8080/",
     "height": 50
    },
    "colab_type": "code",
    "id": "w74VYVvWNffx",
    "outputId": "31632ef6-cb2d-434c-e2f7-26d369061560"
   },
   "outputs": [
    {
     "name": "stdout",
     "output_type": "stream",
     "text": [
      " train accuracy 0.7363025804171085\n",
      " test accuracy 0.7051724137931035\n"
     ]
    }
   ],
   "source": [
    "gradb = Pipeline([ ('tfidf', TfidfVectorizer()),\n",
    "                     ('clf', GradientBoostingClassifier()),\n",
    "                     ])\n",
    "gradb.fit(X_train, Y_train)\n",
    "print(' train accuracy %s' % accuracy_score( gradb.predict(X_train), Y_train))\n",
    "print(' test accuracy %s' % accuracy_score( gradb.predict(X_test), Y_test))\n"
   ]
  },
  {
   "cell_type": "code",
   "execution_count": 51,
   "metadata": {
    "colab": {
     "base_uri": "https://localhost:8080/",
     "height": 50
    },
    "colab_type": "code",
    "id": "8Wx8A6Fz6x4e",
    "outputId": "c4e9b355-186e-4bd8-b680-3668b545998e"
   },
   "outputs": [
    {
     "name": "stdout",
     "output_type": "stream",
     "text": [
      " train accuracy 0.5509897490279251\n",
      " test accuracy 0.5560344827586207\n"
     ]
    }
   ],
   "source": [
    "knn = Pipeline([ ('tfidf', TfidfVectorizer()),\n",
    "                     ('clf', KNeighborsClassifier()),\n",
    "                     ])\n",
    "knn.fit(X_train, Y_train)\n",
    "print(' train accuracy %s' % accuracy_score( knn.predict(X_train), Y_train))\n",
    "print(' test accuracy %s' % accuracy_score( knn.predict(X_test), Y_test))"
   ]
  },
  {
   "cell_type": "code",
   "execution_count": 52,
   "metadata": {
    "colab": {
     "base_uri": "https://localhost:8080/",
     "height": 50
    },
    "colab_type": "code",
    "id": "j1zOn1Mn6x4g",
    "outputId": "cf39c8f8-296f-46e5-bdf6-99e725f8afad"
   },
   "outputs": [
    {
     "name": "stdout",
     "output_type": "stream",
     "text": [
      " train accuracy 0.940880169671262\n",
      " test accuracy 0.7870689655172414\n"
     ]
    }
   ],
   "source": [
    "lsvc = Pipeline([ ('tfidf', TfidfVectorizer()),\n",
    "                     ('clf', LinearSVC()),\n",
    "                     ])\n",
    "lsvc.fit(X_train, Y_train)\n",
    "print(' train accuracy %s' % accuracy_score( lsvc.predict(X_train), Y_train))\n",
    "print(' test accuracy %s' % accuracy_score( lsvc.predict(X_test), Y_test))"
   ]
  },
  {
   "cell_type": "code",
   "execution_count": 53,
   "metadata": {
    "colab": {
     "base_uri": "https://localhost:8080/",
     "height": 50
    },
    "colab_type": "code",
    "id": "MIW_dY4R6x4k",
    "outputId": "6dc65d7b-11e5-465a-d253-3509b4f9a7b9"
   },
   "outputs": [
    {
     "name": "stdout",
     "output_type": "stream",
     "text": [
      " train accuracy 0.9993814068575468\n",
      " test accuracy 0.7741379310344828\n"
     ]
    }
   ],
   "source": [
    "rf = Pipeline([ ('tfidf', TfidfVectorizer()),\n",
    "                     ('clf', RandomForestClassifier(n_jobs = -1)),\n",
    "                     ])\n",
    "rf.fit(X_train, Y_train)\n",
    "print(' train accuracy %s' % accuracy_score( rf.predict(X_train), Y_train))\n",
    "print(' test accuracy %s' % accuracy_score( rf.predict(X_test), Y_test))"
   ]
  },
  {
   "cell_type": "code",
   "execution_count": 0,
   "metadata": {
    "colab": {},
    "colab_type": "code",
    "id": "2aIvBpnj6x4n"
   },
   "outputs": [],
   "source": [
    "accur = [['MultinomialNB', accuracy_score( nb.predict(X_train), Y_train), accuracy_score( nb.predict(X_test), Y_test)], ['LogisticRegression', accuracy_score( logreg.predict(X_train), Y_train),accuracy_score( logreg.predict(X_test), Y_test)], ['GradientBoostingClassifier', accuracy_score( gradb.predict(X_train), Y_train),accuracy_score( gradb.predict(X_test), Y_test)],\n",
    "        ['KNeighborsClassifier',accuracy_score( knn.predict(X_train), Y_train),accuracy_score( knn.predict(X_test), Y_test)],['LinearSVC',accuracy_score( lsvc.predict(X_train), Y_train),accuracy_score( lsvc.predict(X_test), Y_test)],['RandomForestClassifier',accuracy_score( rf.predict(X_train), Y_train),accuracy_score( rf.predict(X_test), Y_test)]] \n",
    "  \n",
    "# Create the pandas DataFrame \n",
    "df_accur = pd.DataFrame(accur, columns = ['Algorithm', 'Train_accuracy','Test_accuracy'])"
   ]
  },
  {
   "cell_type": "code",
   "execution_count": 55,
   "metadata": {
    "colab": {
     "base_uri": "https://localhost:8080/",
     "height": 225
    },
    "colab_type": "code",
    "id": "5cPXeaMSeab9",
    "outputId": "d1b53e7e-8ec2-4fec-c2f3-0cfcee6ca669"
   },
   "outputs": [
    {
     "data": {
      "text/html": [
       "<div>\n",
       "<style scoped>\n",
       "    .dataframe tbody tr th:only-of-type {\n",
       "        vertical-align: middle;\n",
       "    }\n",
       "\n",
       "    .dataframe tbody tr th {\n",
       "        vertical-align: top;\n",
       "    }\n",
       "\n",
       "    .dataframe thead th {\n",
       "        text-align: right;\n",
       "    }\n",
       "</style>\n",
       "<table border=\"1\" class=\"dataframe\">\n",
       "  <thead>\n",
       "    <tr style=\"text-align: right;\">\n",
       "      <th></th>\n",
       "      <th>Algorithm</th>\n",
       "      <th>Train_accuracy</th>\n",
       "      <th>Test_accuracy</th>\n",
       "    </tr>\n",
       "  </thead>\n",
       "  <tbody>\n",
       "    <tr>\n",
       "      <th>0</th>\n",
       "      <td>MultinomialNB</td>\n",
       "      <td>0.880612</td>\n",
       "      <td>0.766379</td>\n",
       "    </tr>\n",
       "    <tr>\n",
       "      <th>1</th>\n",
       "      <td>LogisticRegression</td>\n",
       "      <td>0.862937</td>\n",
       "      <td>0.779310</td>\n",
       "    </tr>\n",
       "    <tr>\n",
       "      <th>2</th>\n",
       "      <td>GradientBoostingClassifier</td>\n",
       "      <td>0.736303</td>\n",
       "      <td>0.705172</td>\n",
       "    </tr>\n",
       "    <tr>\n",
       "      <th>3</th>\n",
       "      <td>KNeighborsClassifier</td>\n",
       "      <td>0.550990</td>\n",
       "      <td>0.556034</td>\n",
       "    </tr>\n",
       "    <tr>\n",
       "      <th>4</th>\n",
       "      <td>LinearSVC</td>\n",
       "      <td>0.940880</td>\n",
       "      <td>0.787069</td>\n",
       "    </tr>\n",
       "    <tr>\n",
       "      <th>5</th>\n",
       "      <td>RandomForestClassifier</td>\n",
       "      <td>0.999381</td>\n",
       "      <td>0.774138</td>\n",
       "    </tr>\n",
       "  </tbody>\n",
       "</table>\n",
       "</div>"
      ],
      "text/plain": [
       "                    Algorithm  Train_accuracy  Test_accuracy\n",
       "0               MultinomialNB        0.880612       0.766379\n",
       "1          LogisticRegression        0.862937       0.779310\n",
       "2  GradientBoostingClassifier        0.736303       0.705172\n",
       "3        KNeighborsClassifier        0.550990       0.556034\n",
       "4                   LinearSVC        0.940880       0.787069\n",
       "5      RandomForestClassifier        0.999381       0.774138"
      ]
     },
     "execution_count": 55,
     "metadata": {
      "tags": []
     },
     "output_type": "execute_result"
    }
   ],
   "source": [
    "df_accur"
   ]
  },
  {
   "cell_type": "markdown",
   "metadata": {
    "colab_type": "text",
    "id": "DWveMx7lefY_"
   },
   "source": [
    "I tried different text classification techniques -\n",
    "Multinomial NB, Logistic regression, Linear SVC, KNeighborsClassifier,\n",
    "Random Forest Classifier, compared their\n",
    "classification performance to choose the most accurate one.\n",
    "\n",
    "\n",
    "KNeighbors Classifier has the least accuracy for both training\n",
    "and testing set among the used algorithms. LinearSVC\n",
    "and RandomForestClassifier has the highest accuracy for\n",
    "training set, 0.94 and 0.99, respectively.\n",
    "The model was selected based on test set accuracy. Because\n",
    "LinearSVC has highest test accuracy that equals 0.78,\n",
    "LinearSVC selected as best model."
   ]
  },
  {
   "cell_type": "markdown",
   "metadata": {
    "colab_type": "text",
    "id": "1oodqG1vexp0"
   },
   "source": [
    "### Hyperparameter Tuning\n",
    "The most significant parameter that was tuned for the Linear\n",
    "SVC algorithm is the regularization parameter – C and for\n",
    "TfidfVectorizer() is ngram_range. "
   ]
  },
  {
   "cell_type": "code",
   "execution_count": 0,
   "metadata": {
    "colab": {},
    "colab_type": "code",
    "id": "i0k2iRgp6x4y"
   },
   "outputs": [],
   "source": [
    "param_to_test = {\"clf__C\": [0.01,0.1, 1, 10, 20], \"tfidf__ngram_range\": [(1,1), (1,2), (1,3)]}\n",
    "grid1 = GridSearchCV(estimator=lsvc, param_grid = param_to_test, cv = 10, scoring ='accuracy', return_train_score = True,n_jobs=-1)\n"
   ]
  },
  {
   "cell_type": "code",
   "execution_count": 57,
   "metadata": {
    "colab": {
     "base_uri": "https://localhost:8080/",
     "height": 1000
    },
    "colab_type": "code",
    "id": "Oyhz0X8l70Un",
    "outputId": "c0a6121e-6b49-4879-9513-085e58964d65"
   },
   "outputs": [
    {
     "data": {
      "text/plain": [
       "{'mean_fit_time': array([0.35870445, 1.41246281, 2.76086569, 0.35987127, 1.44730439,\n",
       "        2.82638834, 0.39691007, 1.56070571, 3.06704617, 0.87052486,\n",
       "        3.65404096, 7.60278738, 1.46673214, 5.14850461, 9.62122886]),\n",
       " 'mean_score_time': array([0.03577628, 0.06623595, 0.0922303 , 0.03594842, 0.0670433 ,\n",
       "        0.09889009, 0.03715982, 0.06712418, 0.09900432, 0.03658295,\n",
       "        0.07287195, 0.09787283, 0.03665023, 0.07261016, 0.09755359]),\n",
       " 'mean_test_score': array([0.73648285, 0.72879398, 0.72048603, 0.76537954, 0.77412786,\n",
       "        0.76741251, 0.76369977, 0.78967954, 0.78755948, 0.72623003,\n",
       "        0.78207932, 0.78561438, 0.71509609, 0.78243284, 0.78694017]),\n",
       " 'mean_train_score': array([0.7834826 , 0.81073013, 0.8217764 , 0.86502885, 0.92776206,\n",
       "        0.94801851, 0.94423825, 0.99874318, 0.99915557, 0.97750481,\n",
       "        0.99926358, 0.99926358, 0.982375  , 0.99938141, 0.99926358]),\n",
       " 'param_clf__C': masked_array(data=[0.01, 0.01, 0.01, 0.1, 0.1, 0.1, 1, 1, 1, 10, 10, 10,\n",
       "                    20, 20, 20],\n",
       "              mask=[False, False, False, False, False, False, False, False,\n",
       "                    False, False, False, False, False, False, False],\n",
       "        fill_value='?',\n",
       "             dtype=object),\n",
       " 'param_tfidf__ngram_range': masked_array(data=[(1, 1), (1, 2), (1, 3), (1, 1), (1, 2), (1, 3), (1, 1),\n",
       "                    (1, 2), (1, 3), (1, 1), (1, 2), (1, 3), (1, 1), (1, 2),\n",
       "                    (1, 3)],\n",
       "              mask=[False, False, False, False, False, False, False, False,\n",
       "                    False, False, False, False, False, False, False],\n",
       "        fill_value='?',\n",
       "             dtype=object),\n",
       " 'params': [{'clf__C': 0.01, 'tfidf__ngram_range': (1, 1)},\n",
       "  {'clf__C': 0.01, 'tfidf__ngram_range': (1, 2)},\n",
       "  {'clf__C': 0.01, 'tfidf__ngram_range': (1, 3)},\n",
       "  {'clf__C': 0.1, 'tfidf__ngram_range': (1, 1)},\n",
       "  {'clf__C': 0.1, 'tfidf__ngram_range': (1, 2)},\n",
       "  {'clf__C': 0.1, 'tfidf__ngram_range': (1, 3)},\n",
       "  {'clf__C': 1, 'tfidf__ngram_range': (1, 1)},\n",
       "  {'clf__C': 1, 'tfidf__ngram_range': (1, 2)},\n",
       "  {'clf__C': 1, 'tfidf__ngram_range': (1, 3)},\n",
       "  {'clf__C': 10, 'tfidf__ngram_range': (1, 1)},\n",
       "  {'clf__C': 10, 'tfidf__ngram_range': (1, 2)},\n",
       "  {'clf__C': 10, 'tfidf__ngram_range': (1, 3)},\n",
       "  {'clf__C': 20, 'tfidf__ngram_range': (1, 1)},\n",
       "  {'clf__C': 20, 'tfidf__ngram_range': (1, 2)},\n",
       "  {'clf__C': 20, 'tfidf__ngram_range': (1, 3)}],\n",
       " 'rank_test_score': array([11, 12, 14,  9,  7,  8, 10,  1,  2, 13,  6,  4, 15,  5,  3],\n",
       "       dtype=int32),\n",
       " 'split0_test_score': array([0.68374558, 0.66166078, 0.65106007, 0.74469965, 0.73321555,\n",
       "        0.71819788, 0.7614841 , 0.77473498, 0.75618375, 0.72173145,\n",
       "        0.76766784, 0.76501767, 0.70053004, 0.76413428, 0.76590106]),\n",
       " 'split0_train_score': array([0.7848586 , 0.80714847, 0.81628044, 0.86390416, 0.92625687,\n",
       "        0.94510998, 0.94255695, 0.99901807, 0.99921445, 0.97663001,\n",
       "        0.99960723, 0.99960723, 0.98075412, 0.99960723, 0.99960723]),\n",
       " 'split1_test_score': array([0.8180212 , 0.82862191, 0.83657244, 0.80918728, 0.82508834,\n",
       "        0.8295053 , 0.79681979, 0.82508834, 0.83038869, 0.74734982,\n",
       "        0.81360424, 0.82243816, 0.74558304, 0.8180212 , 0.82420495]),\n",
       " 'split1_train_score': array([0.78083268, 0.81451296, 0.82963472, 0.86282404, 0.92910448,\n",
       "        0.95119796, 0.94373527, 0.99872349, 0.99921445, 0.97663001,\n",
       "        0.99921445, 0.99921445, 0.98173606, 0.99950903, 0.99921445]),\n",
       " 'split2_test_score': array([0.7270318 , 0.70848057, 0.6934629 , 0.77208481, 0.77208481,\n",
       "        0.7614841 , 0.76590106, 0.795053  , 0.7844523 , 0.74381625,\n",
       "        0.78798587, 0.78975265, 0.73321555, 0.79240283, 0.79328622]),\n",
       " 'split2_train_score': array([0.78426944, 0.80940691, 0.81736057, 0.86410055, 0.92822074,\n",
       "        0.94736842, 0.94560094, 0.99872349, 0.99911626, 0.97859387,\n",
       "        0.99921445, 0.99921445, 0.98301257, 0.99921445, 0.99921445]),\n",
       " 'split3_test_score': array([0.71113074, 0.71024735, 0.70936396, 0.72349823, 0.75971731,\n",
       "        0.75088339, 0.74469965, 0.77473498, 0.78003534, 0.7164311 ,\n",
       "        0.77473498, 0.78091873, 0.69876325, 0.77208481, 0.77650177]),\n",
       " 'split3_train_score': array([0.78358209, 0.81019246, 0.81922624, 0.8647879 , 0.92606049,\n",
       "        0.94599372, 0.94609191, 0.99901807, 0.99911626, 0.9782011 ,\n",
       "        0.99921445, 0.99921445, 0.98301257, 0.99950903, 0.99921445]),\n",
       " 'split4_test_score': array([0.75441696, 0.74381625, 0.74028269, 0.78180212, 0.78886926,\n",
       "        0.78268551, 0.75971731, 0.79063604, 0.79770318, 0.71201413,\n",
       "        0.78091873, 0.78710247, 0.69611307, 0.77915194, 0.79063604]),\n",
       " 'split4_train_score': array([0.7833857 , 0.80999607, 0.8198154 , 0.86635899, 0.92772977,\n",
       "        0.94825216, 0.94344069, 0.99862529, 0.99901807, 0.97682639,\n",
       "        0.99911626, 0.99911626, 0.98203064, 0.99911626, 0.99911626]),\n",
       " 'split5_test_score': array([0.68462898, 0.68727915, 0.67226148, 0.72614841, 0.73498233,\n",
       "        0.72173145, 0.7270318 , 0.76413428, 0.75353357, 0.69699647,\n",
       "        0.75795053, 0.75618375, 0.68904594, 0.75883392, 0.75618375]),\n",
       " 'split5_train_score': array([0.78554595, 0.81294187, 0.82364493, 0.86606441, 0.92831893,\n",
       "        0.94687745, 0.94402985, 0.99891987, 0.99921445, 0.97790652,\n",
       "        0.99921445, 0.99921445, 0.98350353, 0.99921445, 0.99921445]),\n",
       " 'split6_test_score': array([0.75862069, 0.74624226, 0.74093722, 0.76923077, 0.78514589,\n",
       "        0.78603006, 0.7683466 , 0.80282935, 0.79929266, 0.71441202,\n",
       "        0.79752431, 0.80194518, 0.69496021, 0.79575597, 0.80548187]),\n",
       " 'split6_train_score': array([0.78458517, 0.8113893 , 0.82326951, 0.86509573, 0.92724595,\n",
       "        0.94815906, 0.94472263, 0.99833088, 0.99891998, 0.97673049,\n",
       "        0.99911635, 0.99911635, 0.98173785, 0.9994109 , 0.99911635]),\n",
       " 'split7_test_score': array([0.73386384, 0.7418214 , 0.72590628, 0.7515473 , 0.76746242,\n",
       "        0.76215738, 0.75243148, 0.77365164, 0.77630416, 0.7285588 ,\n",
       "        0.77011494, 0.77099912, 0.7250221 , 0.76923077, 0.77630416]),\n",
       " 'split7_train_score': array([0.78723613, 0.8131566 , 0.82631321, 0.86666667, 0.92783505,\n",
       "        0.94923908, 0.9437408 , 0.99862543, 0.99911635, 0.97682867,\n",
       "        0.99911635, 0.99911635, 0.98213058, 0.99911635, 0.99911635]),\n",
       " 'split8_test_score': array([0.75243148, 0.73032714, 0.71441202, 0.78956676, 0.79840849,\n",
       "        0.78691424, 0.79575597, 0.81609195, 0.81167109, 0.75596817,\n",
       "        0.80106101, 0.80282935, 0.74977896, 0.80194518, 0.80194518]),\n",
       " 'split8_train_score': array([0.77771232, 0.8077565 , 0.82032401, 0.86411389, 0.92744232,\n",
       "        0.94923908, 0.94403535, 0.99862543, 0.99931271, 0.97790869,\n",
       "        0.99950908, 0.99950908, 0.98163967, 0.99950908, 0.99950908]),\n",
       " 'split9_test_score': array([0.74093722, 0.72944297, 0.72060124, 0.78603006, 0.77630416,\n",
       "        0.77453581, 0.7648099 , 0.77984085, 0.78603006, 0.7250221 ,\n",
       "        0.76923077, 0.77895668, 0.71794872, 0.77276746, 0.77895668]),\n",
       " 'split9_train_score': array([0.78281787, 0.8108002 , 0.82189494, 0.86637212, 0.92940599,\n",
       "        0.94874816, 0.94442808, 0.9988218 , 0.99931271, 0.97879234,\n",
       "        0.99931271, 0.99931271, 0.98419244, 0.99960727, 0.99931271]),\n",
       " 'std_fit_time': array([0.01558152, 0.03264031, 0.0494034 , 0.0191661 , 0.03946644,\n",
       "        0.06474998, 0.00502913, 0.02965561, 0.05820762, 0.09122387,\n",
       "        0.56760393, 1.0081808 , 0.03182097, 0.32596348, 0.71873814]),\n",
       " 'std_score_time': array([0.00301575, 0.00855979, 0.0161745 , 0.00337789, 0.00848339,\n",
       "        0.00908   , 0.00466822, 0.00852499, 0.01016138, 0.00305406,\n",
       "        0.00698177, 0.01005794, 0.00306234, 0.00836161, 0.01343447]),\n",
       " 'std_test_score': array([0.03734083, 0.04201806, 0.04727792, 0.02678095, 0.02644318,\n",
       "        0.0311629 , 0.02001373, 0.01899221, 0.02234673, 0.01720225,\n",
       "        0.01667623, 0.01873165, 0.02119123, 0.01789267, 0.01919886]),\n",
       " 'std_train_score': array([0.00250707, 0.00223111, 0.00387601, 0.00123353, 0.00102767,\n",
       "        0.0016727 , 0.00098039, 0.00020023, 0.00011783, 0.00081858,\n",
       "        0.00015984, 0.00015984, 0.00097725, 0.00018656, 0.00015984])}"
      ]
     },
     "execution_count": 57,
     "metadata": {
      "tags": []
     },
     "output_type": "execute_result"
    }
   ],
   "source": [
    "grid1.fit(X_train,Y_train)\n",
    "grid1.cv_results_"
   ]
  },
  {
   "cell_type": "code",
   "execution_count": 58,
   "metadata": {
    "colab": {
     "base_uri": "https://localhost:8080/",
     "height": 386
    },
    "colab_type": "code",
    "id": "l4abSuSLAJTw",
    "outputId": "8c0569b0-a279-487d-83f6-0ecf9b902665"
   },
   "outputs": [
    {
     "name": "stdout",
     "output_type": "stream",
     "text": [
      "The best model: Pipeline(memory=None,\n",
      "         steps=[('tfidf',\n",
      "                 TfidfVectorizer(analyzer='word', binary=False,\n",
      "                                 decode_error='strict',\n",
      "                                 dtype=<class 'numpy.float64'>,\n",
      "                                 encoding='utf-8', input='content',\n",
      "                                 lowercase=True, max_df=1.0, max_features=None,\n",
      "                                 min_df=1, ngram_range=(1, 2), norm='l2',\n",
      "                                 preprocessor=None, smooth_idf=True,\n",
      "                                 stop_words=None, strip_accents=None,\n",
      "                                 sublinear_tf=False,\n",
      "                                 token_pattern='(?u)\\\\b\\\\w\\\\w+\\\\b',\n",
      "                                 tokenizer=None, use_idf=True,\n",
      "                                 vocabulary=None)),\n",
      "                ('clf',\n",
      "                 LinearSVC(C=1, class_weight=None, dual=True,\n",
      "                           fit_intercept=True, intercept_scaling=1,\n",
      "                           loss='squared_hinge', max_iter=1000,\n",
      "                           multi_class='ovr', penalty='l2', random_state=None,\n",
      "                           tol=0.0001, verbose=0))],\n",
      "         verbose=False)\n",
      "The best score:  0.7896795418545144\n"
     ]
    }
   ],
   "source": [
    "print('The best model:', grid1.best_estimator_)\n",
    "print('The best score: ', grid1.best_score_)"
   ]
  },
  {
   "cell_type": "code",
   "execution_count": 59,
   "metadata": {
    "colab": {
     "base_uri": "https://localhost:8080/",
     "height": 34
    },
    "colab_type": "code",
    "id": "CgiAcX79E8vZ",
    "outputId": "c26b2188-ed46-4cce-e35c-7d02cec2a25f"
   },
   "outputs": [
    {
     "name": "stdout",
     "output_type": "stream",
     "text": [
      " test accuracy 0.8181034482758621\n"
     ]
    }
   ],
   "source": [
    "print(' test accuracy %s' % accuracy_score( grid1.predict(X_test), Y_test))"
   ]
  },
  {
   "cell_type": "markdown",
   "metadata": {
    "colab_type": "text",
    "id": "GEDgP9r4fFba"
   },
   "source": [
    "After performing the\n",
    "grid search, the best hyperparameter was chosen as C =1 and\n",
    "ngram_range=(1,2) and the model accuracy increased to\n",
    "0.81. In comparison with the baseline model, the accuracy\n",
    "of the selected model is 10% higher."
   ]
  },
  {
   "cell_type": "code",
   "execution_count": 60,
   "metadata": {
    "colab": {
     "base_uri": "https://localhost:8080/",
     "height": 168
    },
    "colab_type": "code",
    "id": "evaiOPN3LZb6",
    "outputId": "d34b0349-f530-493c-cd15-30dd73f7023f"
   },
   "outputs": [
    {
     "name": "stdout",
     "output_type": "stream",
     "text": [
      "              precision    recall  f1-score   support\n",
      "\n",
      "           0       0.81      0.80      0.81       544\n",
      "           1       0.83      0.83      0.83       616\n",
      "\n",
      "    accuracy                           0.82      1160\n",
      "   macro avg       0.82      0.82      0.82      1160\n",
      "weighted avg       0.82      0.82      0.82      1160\n",
      "\n"
     ]
    }
   ],
   "source": [
    "print(classification_report(Y_test, grid1.predict(X_test)))"
   ]
  },
  {
   "cell_type": "markdown",
   "metadata": {
    "colab_type": "text",
    "id": "qXmxpyrbfH8y"
   },
   "source": [
    "It can be seen that the model has better\n",
    "results for pro-Brexit comments."
   ]
  },
  {
   "cell_type": "code",
   "execution_count": 61,
   "metadata": {
    "colab": {
     "base_uri": "https://localhost:8080/",
     "height": 279
    },
    "colab_type": "code",
    "id": "-ctXFJbJUobB",
    "outputId": "66d56cea-424e-4a42-98ce-3cfc0e8c1cc5"
   },
   "outputs": [
    {
     "data": {
      "image/png": "[encoded data removed]",
      "text/plain": [
       "<Figure size 432x288 with 1 Axes>"
      ]
     },
     "metadata": {
      "tags": []
     },
     "output_type": "display_data"
    }
   ],
   "source": [
    "svc_disp = plot_roc_curve(grid1.best_estimator_, X_test, Y_test,color='darkorange')\n",
    "plt.show()"
   ]
  },
  {
   "cell_type": "markdown",
   "metadata": {
    "colab_type": "text",
    "id": "1C5qSfJDfQP0"
   },
   "source": [
    "AUC\n",
    "close to 1 means the model is good at distinguishing between\n",
    "pro-Brexit and anti-Brexit comments. Figure 2 contains\n",
    "the AUC - ROC curve for the selected model. The\n",
    "AUC value is equal to 0.9. Which is good.\n"
   ]
  },
  {
   "cell_type": "code",
   "execution_count": 0,
   "metadata": {
    "colab": {},
    "colab_type": "code",
    "id": "h7ZUvX-DPUTO"
   },
   "outputs": [],
   "source": [
    "conf_mat=confusion_matrix(Y_test, grid1.predict(X_test))"
   ]
  },
  {
   "cell_type": "code",
   "execution_count": 63,
   "metadata": {
    "colab": {
     "base_uri": "https://localhost:8080/",
     "height": 296
    },
    "colab_type": "code",
    "id": "XVGm2WKYQ-tG",
    "outputId": "7b54b1ca-5ff4-44d4-8e7c-5fe095c50c30"
   },
   "outputs": [
    {
     "data": {
      "text/plain": [
       "<sklearn.metrics._plot.confusion_matrix.ConfusionMatrixDisplay at 0x7fc5400eca90>"
      ]
     },
     "execution_count": 63,
     "metadata": {
      "tags": []
     },
     "output_type": "execute_result"
    },
    {
     "data": {
      "image/png": "[encoded data removed]",
      "text/plain": [
       "<Figure size 432x288 with 2 Axes>"
      ]
     },
     "metadata": {
      "tags": []
     },
     "output_type": "display_data"
    }
   ],
   "source": [
    "plot_confusion_matrix(grid1.best_estimator_, X_test, Y_test,\n",
    "                                 display_labels=['anti-Brexit','pro-Brexit'],\n",
    "                                 cmap=plt.cm.Blues)"
   ]
  },
  {
   "cell_type": "markdown",
   "metadata": {
    "colab_type": "text",
    "id": "ym1xFcfsfcrj"
   },
   "source": [
    "From confusion matrix, It can be seen that almost\n",
    "950 comments are classified correctly, however more\n",
    "than 200 comments are misclassified."
   ]
  },
  {
   "cell_type": "code",
   "execution_count": 0,
   "metadata": {
    "colab": {},
    "colab_type": "code",
    "id": "RC0cwXfUUvuY"
   },
   "outputs": [],
   "source": [
    "Y_pred=grid1.predict(X_test)\n",
    "misclassification  = pd.DataFrame( columns = ['comment', 'label','classified_label'])\n",
    "for i in range(len(Y_test)):\n",
    "  if Y_pred[i] != Y_test[i]:\n",
    "    misclassification=misclassification.append({'comment': X_test[i],'label': Y_test[i],'classified_label':Y_pred[i]},ignore_index=True)\n",
    "\n"
   ]
  },
  {
   "cell_type": "code",
   "execution_count": 65,
   "metadata": {
    "colab": {
     "base_uri": "https://localhost:8080/",
     "height": 402
    },
    "colab_type": "code",
    "id": "kIvbat67s1hx",
    "outputId": "6dafe24b-79ec-4ed1-f050-ac431af52c92"
   },
   "outputs": [
    {
     "data": {
      "text/html": [
       "<div>\n",
       "<style scoped>\n",
       "    .dataframe tbody tr th:only-of-type {\n",
       "        vertical-align: middle;\n",
       "    }\n",
       "\n",
       "    .dataframe tbody tr th {\n",
       "        vertical-align: top;\n",
       "    }\n",
       "\n",
       "    .dataframe thead th {\n",
       "        text-align: right;\n",
       "    }\n",
       "</style>\n",
       "<table border=\"1\" class=\"dataframe\">\n",
       "  <thead>\n",
       "    <tr style=\"text-align: right;\">\n",
       "      <th></th>\n",
       "      <th>comment</th>\n",
       "      <th>label</th>\n",
       "      <th>classified_label</th>\n",
       "    </tr>\n",
       "  </thead>\n",
       "  <tbody>\n",
       "    <tr>\n",
       "      <th>0</th>\n",
       "      <td>year now. would want back in.</td>\n",
       "      <td>0</td>\n",
       "      <td>1</td>\n",
       "    </tr>\n",
       "    <tr>\n",
       "      <th>1</th>\n",
       "      <td>brexit britain navig way world without moral c...</td>\n",
       "      <td>0</td>\n",
       "      <td>1</td>\n",
       "    </tr>\n",
       "    <tr>\n",
       "      <th>2</th>\n",
       "      <td>vote stay eu vote stay slave.</td>\n",
       "      <td>1</td>\n",
       "      <td>0</td>\n",
       "    </tr>\n",
       "    <tr>\n",
       "      <th>3</th>\n",
       "      <td>mani convers good + bad (+sad) feel retain bad...</td>\n",
       "      <td>1</td>\n",
       "      <td>0</td>\n",
       "    </tr>\n",
       "    <tr>\n",
       "      <th>4</th>\n",
       "      <td>racist xenophob vote leav peopl vote leav raci...</td>\n",
       "      <td>1</td>\n",
       "      <td>0</td>\n",
       "    </tr>\n",
       "    <tr>\n",
       "      <th>...</th>\n",
       "      <td>...</td>\n",
       "      <td>...</td>\n",
       "      <td>...</td>\n",
       "    </tr>\n",
       "    <tr>\n",
       "      <th>206</th>\n",
       "      <td>thank god wife got german citzenship live like...</td>\n",
       "      <td>0</td>\n",
       "      <td>1</td>\n",
       "    </tr>\n",
       "    <tr>\n",
       "      <th>207</th>\n",
       "      <td>remain camp seem wish leaver ignor onli disdain</td>\n",
       "      <td>1</td>\n",
       "      <td>0</td>\n",
       "    </tr>\n",
       "    <tr>\n",
       "      <th>208</th>\n",
       "      <td>need petit referendum get back europ</td>\n",
       "      <td>0</td>\n",
       "      <td>1</td>\n",
       "    </tr>\n",
       "    <tr>\n",
       "      <th>209</th>\n",
       "      <td>роverti dооm await countri</td>\n",
       "      <td>0</td>\n",
       "      <td>1</td>\n",
       "    </tr>\n",
       "    <tr>\n",
       "      <th>210</th>\n",
       "      <td>“so mani remain hate country” think find love ...</td>\n",
       "      <td>0</td>\n",
       "      <td>1</td>\n",
       "    </tr>\n",
       "  </tbody>\n",
       "</table>\n",
       "<p>211 rows × 3 columns</p>\n",
       "</div>"
      ],
      "text/plain": [
       "                                               comment label classified_label\n",
       "0                        year now. would want back in.     0                1\n",
       "1    brexit britain navig way world without moral c...     0                1\n",
       "2                        vote stay eu vote stay slave.     1                0\n",
       "3    mani convers good + bad (+sad) feel retain bad...     1                0\n",
       "4    racist xenophob vote leav peopl vote leav raci...     1                0\n",
       "..                                                 ...   ...              ...\n",
       "206  thank god wife got german citzenship live like...     0                1\n",
       "207    remain camp seem wish leaver ignor onli disdain     1                0\n",
       "208               need petit referendum get back europ     0                1\n",
       "209                         роverti dооm await countri     0                1\n",
       "210  “so mani remain hate country” think find love ...     0                1\n",
       "\n",
       "[211 rows x 3 columns]"
      ]
     },
     "execution_count": 65,
     "metadata": {
      "tags": []
     },
     "output_type": "execute_result"
    }
   ],
   "source": [
    "misclassification"
   ]
  },
  {
   "cell_type": "markdown",
   "metadata": {
    "colab_type": "text",
    "id": "AixNQukkfoeO"
   },
   "source": [
    "There reason for  misclassification can be that the\n",
    "comment contains both negative and positive words.\n",
    "Because the text classification algorithms classified based\n",
    "on words, the comments with allusion can also be cause\n",
    "misclassification."
   ]
  },
  {
   "cell_type": "code",
   "execution_count": 0,
   "metadata": {
    "colab": {},
    "colab_type": "code",
    "id": "p7PcptJAirjE"
   },
   "outputs": [],
   "source": [
    "feature_names=grid1.best_estimator_.named_steps['tfidf'].get_feature_names()\n",
    "feature_names"
   ]
  },
  {
   "cell_type": "code",
   "execution_count": 0,
   "metadata": {
    "colab": {},
    "colab_type": "code",
    "id": "HPDqw1X2oXpn"
   },
   "outputs": [],
   "source": [
    "def plot_features_importance(clf, feature_names, top_features=20):\n",
    "  coef = clf.coef_[0]\n",
    "  top_positive_coefs = np.argsort(coef)[-top_features:]\n",
    "  top_negative_coefs = np.argsort(coef)[:top_features]\n",
    "  top_coefficients = np.hstack([top_negative_coefs, top_positive_coefs])\n",
    "\n",
    "  plt.figure(figsize=(12, 6))\n",
    "  colors =['#cccccc' if c < 0 else 'teal' for c in coef[top_coefficients]]\n",
    "  plt.bar(np.arange(2 * top_features), coef[top_coefficients], color=colors)\n",
    "  feature_names = np.array(feature_names)[top_coefficients]\n",
    "  plt.xticks(np.arange(1, 1 + 2 * top_features), feature_names, rotation='vertical', ha='right')\n",
    "  plt.xlabel('Features')\n",
    "  plt.ylabel('Coefficient')\n",
    "  plt.title(\"Features Coefficient\")\n",
    "  plt.show()"
   ]
  },
  {
   "cell_type": "code",
   "execution_count": 68,
   "metadata": {
    "colab": {
     "base_uri": "https://localhost:8080/",
     "height": 454
    },
    "colab_type": "code",
    "id": "TOw3Zii8oaLF",
    "outputId": "59a470c9-2aa2-4c52-becc-f98dd0829439"
   },
   "outputs": [
    {
     "data": {
      "image/png": "[encoded data removed]",
      "text/plain": [
       "<Figure size 864x432 with 1 Axes>"
      ]
     },
     "metadata": {
      "tags": []
     },
     "output_type": "display_data"
    }
   ],
   "source": [
    "plot_features_importance(\n",
    "    clf=grid1.best_estimator_.named_steps['clf'],\n",
    "    feature_names=grid1.best_estimator_.named_steps['tfidf'].get_feature_names()\n",
    ")"
   ]
  },
  {
   "cell_type": "markdown",
   "metadata": {
    "colab_type": "text",
    "id": "cOLup4qrfu1n"
   },
   "source": [
    "The words like Scotland, sad, stupid, Putin has negative\n",
    "coefficients, which are used to classify comment as anti-\n",
    "Brexit. The words like freedom, democracy, leave, etc.\n",
    "have positive coefficients, which have significant influence\n",
    "to classify comment as pro-Brexit."
   ]
  },
  {
   "cell_type": "markdown",
   "metadata": {
    "colab_type": "text",
    "id": "RreXYwSuf0fN"
   },
   "source": [
    "It was possible to get reasonable results from classifiers such\n",
    "as Logistic Regression, Linear SVC. The test accuracy of\n",
    "those algorithm was around 78% which is reasonable considering\n",
    "the narrow margin between positive and negative\n",
    "comments in many cases. Furthermore, the hyperparameter\n",
    "tuning was not done for all algorithms due to time and processing\n",
    "power constraints. It might be possible that other algorithms\n",
    "which are"
   ]
  }
 ],
 "metadata": {
  "accelerator": "TPU",
  "colab": {
   "collapsed_sections": [],
   "name": "Programming assignment 2A: Political stance classification.ipynb",
   "provenance": []
  },
  "kernelspec": {
   "display_name": "Python 3",
   "language": "python",
   "name": "python3"
  },
  "language_info": {
   "codemirror_mode": {
    "name": "ipython",
    "version": 3
   },
   "file_extension": ".py",
   "mimetype": "text/x-python",
   "name": "python",
   "nbconvert_exporter": "python",
   "pygments_lexer": "ipython3",
   "version": "3.7.3"
  }
 },
 "nbformat": 4,
 "nbformat_minor": 1
}
